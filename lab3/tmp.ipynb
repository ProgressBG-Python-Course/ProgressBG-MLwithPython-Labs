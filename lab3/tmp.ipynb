{
 "cells": [
  {
   "cell_type": "code",
   "execution_count": 2,
   "id": "2d5c9317-9a70-4971-8700-cdf76e740cf9",
   "metadata": {},
   "outputs": [],
   "source": [
    "import numpy as np\n",
    "import pandas as pd"
   ]
  },
  {
   "cell_type": "code",
   "execution_count": 12,
   "id": "45d29b57-96cd-43d2-8e1f-5764b2a9bd77",
   "metadata": {},
   "outputs": [],
   "source": [
    "l = [1,2,3]\n",
    "a1 = np.array(l, copy=False)"
   ]
  },
  {
   "cell_type": "code",
   "execution_count": 13,
   "id": "67cd090a-af29-4ebf-b4d5-ab5bd610febb",
   "metadata": {},
   "outputs": [],
   "source": [
    "s1 = pd.Series(data=l)"
   ]
  },
  {
   "cell_type": "code",
   "execution_count": 18,
   "id": "8d571b4e-52d9-425d-a5d1-a0d64097aaa0",
   "metadata": {},
   "outputs": [
    {
     "data": {
      "text/plain": [
       "numpy.int64"
      ]
     },
     "execution_count": 18,
     "metadata": {},
     "output_type": "execute_result"
    }
   ],
   "source": [
    "type(s1[1])"
   ]
  },
  {
   "cell_type": "code",
   "execution_count": 33,
   "id": "79fb2eb5-e9a1-4dd7-a7c6-195d5989026e",
   "metadata": {},
   "outputs": [
    {
     "data": {
      "text/plain": [
       "d    4\n",
       "a    1\n",
       "c    3\n",
       "b    2\n",
       "e    5\n",
       "dtype: int64"
      ]
     },
     "execution_count": 33,
     "metadata": {},
     "output_type": "execute_result"
    }
   ],
   "source": [
    "ds = pd.Series({\n",
    "  \"d\":4,\n",
    "  \"a\":1,\n",
    "  \"c\":3,\n",
    "  \"b\":2,\n",
    "  \"e\":5\n",
    "})\n",
    "ds"
   ]
  },
  {
   "cell_type": "code",
   "execution_count": 37,
   "id": "f810631a-5c21-4215-aab8-0b11c2240ad9",
   "metadata": {},
   "outputs": [
    {
     "data": {
      "text/plain": [
       "c    3\n",
       "b    2\n",
       "e    5\n",
       "dtype: int64"
      ]
     },
     "execution_count": 37,
     "metadata": {},
     "output_type": "execute_result"
    }
   ],
   "source": [
    "ds[\"c\":\"e\"]"
   ]
  },
  {
   "cell_type": "code",
   "execution_count": 39,
   "id": "56517572-1a63-41ea-8535-40209657b827",
   "metadata": {},
   "outputs": [
    {
     "data": {
      "text/plain": [
       "d    4\n",
       "c    3\n",
       "e    5\n",
       "dtype: int64"
      ]
     },
     "execution_count": 39,
     "metadata": {},
     "output_type": "execute_result"
    }
   ],
   "source": [
    "ds[[True,False,True,False,True]]"
   ]
  },
  {
   "cell_type": "code",
   "execution_count": 43,
   "id": "1af9f43d-fb57-4f69-855f-ed0f13debbb7",
   "metadata": {},
   "outputs": [
    {
     "data": {
      "text/plain": [
       "d     True\n",
       "a    False\n",
       "c    False\n",
       "b     True\n",
       "e    False\n",
       "dtype: bool"
      ]
     },
     "execution_count": 43,
     "metadata": {},
     "output_type": "execute_result"
    }
   ],
   "source": [
    "ds%2==0"
   ]
  },
  {
   "cell_type": "code",
   "execution_count": 44,
   "id": "7dff13fd-3661-4396-a712-a814a0190a50",
   "metadata": {},
   "outputs": [
    {
     "data": {
      "text/plain": [
       "d    4\n",
       "b    2\n",
       "dtype: int64"
      ]
     },
     "execution_count": 44,
     "metadata": {},
     "output_type": "execute_result"
    }
   ],
   "source": [
    "ds[ds%2==0]"
   ]
  },
  {
   "cell_type": "code",
   "execution_count": null,
   "id": "f07006fa-d73a-42cd-b2a4-4c88d5f93e6d",
   "metadata": {},
   "outputs": [],
   "source": []
  }
 ],
 "metadata": {
  "kernelspec": {
   "display_name": "Python 3.9.7 64-bit ('ml_python_3.9': pyenv)",
   "language": "python",
   "name": "python397jvsc74a57bd06ff067a0fdd468d21234896ffbb9cd57a905a2e40964bad2ca7f8fead7ef9bc7"
  },
  "language_info": {
   "codemirror_mode": {
    "name": "ipython",
    "version": 3
   },
   "file_extension": ".py",
   "mimetype": "text/x-python",
   "name": "python",
   "nbconvert_exporter": "python",
   "pygments_lexer": "ipython3",
   "version": "3.9.7"
  }
 },
 "nbformat": 4,
 "nbformat_minor": 5
}
