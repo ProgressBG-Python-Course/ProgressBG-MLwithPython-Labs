{
 "cells": [
  {
   "cell_type": "markdown",
   "metadata": {},
   "source": [
    "# DataFrame Indexing"
   ]
  },
  {
   "cell_type": "code",
   "execution_count": 5,
   "id": "035e4ac4-37ab-4ee4-9d5f-b6901f4e52bb",
   "metadata": {},
   "outputs": [],
   "source": [
    "import numpy as np\n",
    "import pandas as pd"
   ]
  },
  {
   "cell_type": "code",
   "execution_count": 8,
   "metadata": {},
   "outputs": [
    {
     "data": {
      "text/html": [
       "<div>\n",
       "<style scoped>\n",
       "    .dataframe tbody tr th:only-of-type {\n",
       "        vertical-align: middle;\n",
       "    }\n",
       "\n",
       "    .dataframe tbody tr th {\n",
       "        vertical-align: top;\n",
       "    }\n",
       "\n",
       "    .dataframe thead th {\n",
       "        text-align: right;\n",
       "    }\n",
       "</style>\n",
       "<table border=\"1\" class=\"dataframe\">\n",
       "  <thead>\n",
       "    <tr style=\"text-align: right;\">\n",
       "      <th></th>\n",
       "      <th>author</th>\n",
       "      <th>authorUrl</th>\n",
       "    </tr>\n",
       "  </thead>\n",
       "  <tbody>\n",
       "    <tr>\n",
       "      <th>0</th>\n",
       "      <td>Mike Pirnat</td>\n",
       "      <td>http://mike.pirnat.com/</td>\n",
       "    </tr>\n",
       "    <tr>\n",
       "      <th>1</th>\n",
       "      <td>David Mertz</td>\n",
       "      <td>http://www.oreilly.com/programming/free/functi...</td>\n",
       "    </tr>\n",
       "    <tr>\n",
       "      <th>2</th>\n",
       "      <td>Muhammad Yasoob</td>\n",
       "      <td>http://pythontips.com/</td>\n",
       "    </tr>\n",
       "    <tr>\n",
       "      <th>3</th>\n",
       "      <td>B. Miller &amp; D. Ranum</td>\n",
       "      <td>http://reputablejournal.com</td>\n",
       "    </tr>\n",
       "    <tr>\n",
       "      <th>4</th>\n",
       "      <td>Jeffrey Elkner...</td>\n",
       "      <td>http://greenteapress.com/</td>\n",
       "    </tr>\n",
       "    <tr>\n",
       "      <th>5</th>\n",
       "      <td>B. Miller &amp; D. Ranum</td>\n",
       "      <td>http://reputablejournal.com/</td>\n",
       "    </tr>\n",
       "    <tr>\n",
       "      <th>6</th>\n",
       "      <td>Zed A. Shaw</td>\n",
       "      <td>http://learnpythonthehardway.org/</td>\n",
       "    </tr>\n",
       "    <tr>\n",
       "      <th>7</th>\n",
       "      <td>Mark Pilgrim</td>\n",
       "      <td>http://getpython3.com/diveintopython3/</td>\n",
       "    </tr>\n",
       "    <tr>\n",
       "      <th>8</th>\n",
       "      <td>Mark Pilgrim</td>\n",
       "      <td>http://getpython3.com/diveintopython3/</td>\n",
       "    </tr>\n",
       "    <tr>\n",
       "      <th>9</th>\n",
       "      <td>Allen B. Downey</td>\n",
       "      <td>http://www.greenteapress.com/</td>\n",
       "    </tr>\n",
       "  </tbody>\n",
       "</table>\n",
       "</div>"
      ],
      "text/plain": [
       "                 author                                          authorUrl\n",
       "0           Mike Pirnat                            http://mike.pirnat.com/\n",
       "1           David Mertz  http://www.oreilly.com/programming/free/functi...\n",
       "2       Muhammad Yasoob                             http://pythontips.com/\n",
       "3  B. Miller & D. Ranum                        http://reputablejournal.com\n",
       "4     Jeffrey Elkner...                          http://greenteapress.com/\n",
       "5  B. Miller & D. Ranum                       http://reputablejournal.com/\n",
       "6           Zed A. Shaw                  http://learnpythonthehardway.org/\n",
       "7          Mark Pilgrim             http://getpython3.com/diveintopython3/\n",
       "8          Mark Pilgrim             http://getpython3.com/diveintopython3/\n",
       "9       Allen B. Downey                      http://www.greenteapress.com/"
      ]
     },
     "execution_count": 8,
     "metadata": {},
     "output_type": "execute_result"
    }
   ],
   "source": [
    "authors_df = pd.read_csv(\"./authors.csv\", sep=',')\n",
    "authors_df.head(10)"
   ]
  },
  {
   "cell_type": "code",
   "execution_count": 7,
   "id": "e616a4a1-2430-4a92-bc58-09d5e936f32e",
   "metadata": {},
   "outputs": [
    {
     "name": "stdout",
     "output_type": "stream",
     "text": [
      "Index(['author', 'authorUrl'], dtype='object')\n",
      "RangeIndex(start=0, stop=75, step=1)\n"
     ]
    }
   ],
   "source": [
    "print(authors_df.columns)\n",
    "print(authors_df.index)"
   ]
  },
  {
   "cell_type": "markdown",
   "metadata": {},
   "source": [
    "## Index by column and row"
   ]
  },
  {
   "cell_type": "code",
   "execution_count": 16,
   "id": "45c323b9-bfe6-4a95-a614-5e7f62a9f61b",
   "metadata": {},
   "outputs": [
    {
     "name": "stdout",
     "output_type": "stream",
     "text": [
      "0        Mike Pirnat\n",
      "1        David Mertz\n",
      "2    Muhammad Yasoob\n",
      "Name: author, dtype: object\n",
      "0        Mike Pirnat\n",
      "1        David Mertz\n",
      "2    Muhammad Yasoob\n",
      "Name: author, dtype: object\n"
     ]
    }
   ],
   "source": [
    "# by single column:\n",
    "print(authors_df[\"author\"].head(3))\n",
    "print(authors_df.author.head(3))"
   ]
  },
  {
   "cell_type": "code",
   "execution_count": 19,
   "metadata": {},
   "outputs": [
    {
     "name": "stdout",
     "output_type": "stream",
     "text": [
      "            author                                          authorUrl\n",
      "0      Mike Pirnat                            http://mike.pirnat.com/\n",
      "1      David Mertz  http://www.oreilly.com/programming/free/functi...\n",
      "2  Muhammad Yasoob                             http://pythontips.com/\n"
     ]
    }
   ],
   "source": [
    "# by multiple columns:\n",
    "print(authors_df[[\"author\", \"authorUrl\"]].head(3))"
   ]
  },
  {
   "cell_type": "markdown",
   "id": "22fbb465-baea-4211-bf01-cdd3965dc8bb",
   "metadata": {},
   "source": [
    "TASK: print rows which author name starts with 'D'"
   ]
  },
  {
   "cell_type": "code",
   "execution_count": 41,
   "id": "7276299b-7274-412b-96ec-a363d6177654",
   "metadata": {},
   "outputs": [
    {
     "data": {
      "text/plain": [
       "True"
      ]
     },
     "execution_count": 41,
     "metadata": {},
     "output_type": "execute_result"
    }
   ],
   "source": [
    "# python startswith method:\n",
    "s = 'abc'\n",
    "s.startswith('a')"
   ]
  },
  {
   "cell_type": "code",
   "execution_count": 67,
   "id": "b80a7438-14e6-41e3-a2eb-7bb7fb22132a",
   "metadata": {},
   "outputs": [],
   "source": [
    "# Series.str.startswith method:\n",
    "mask = authors_df.author.str.startswith('D')"
   ]
  },
  {
   "cell_type": "code",
   "execution_count": 68,
   "id": "3b6d06dc-d679-4619-aa61-29b1cf6aaf90",
   "metadata": {},
   "outputs": [
    {
     "data": {
      "text/html": [
       "<div>\n",
       "<style scoped>\n",
       "    .dataframe tbody tr th:only-of-type {\n",
       "        vertical-align: middle;\n",
       "    }\n",
       "\n",
       "    .dataframe tbody tr th {\n",
       "        vertical-align: top;\n",
       "    }\n",
       "\n",
       "    .dataframe thead th {\n",
       "        text-align: right;\n",
       "    }\n",
       "</style>\n",
       "<table border=\"1\" class=\"dataframe\">\n",
       "  <thead>\n",
       "    <tr style=\"text-align: right;\">\n",
       "      <th></th>\n",
       "      <th>author</th>\n",
       "      <th>authorUrl</th>\n",
       "    </tr>\n",
       "  </thead>\n",
       "  <tbody>\n",
       "    <tr>\n",
       "      <th>1</th>\n",
       "      <td>David Mertz</td>\n",
       "      <td>http://www.oreilly.com/programming/free/functi...</td>\n",
       "    </tr>\n",
       "    <tr>\n",
       "      <th>17</th>\n",
       "      <td>Dave Kuhlman</td>\n",
       "      <td>http://www.rexx.com/~dkuhlman</td>\n",
       "    </tr>\n",
       "    <tr>\n",
       "      <th>25</th>\n",
       "      <td>Doug Hellman</td>\n",
       "      <td>http://www.doughellmann.com/</td>\n",
       "    </tr>\n",
       "    <tr>\n",
       "      <th>54</th>\n",
       "      <td>David Mertz</td>\n",
       "      <td>http://gnosis.cx/TPiP/</td>\n",
       "    </tr>\n",
       "  </tbody>\n",
       "</table>\n",
       "</div>"
      ],
      "text/plain": [
       "          author                                          authorUrl\n",
       "1    David Mertz  http://www.oreilly.com/programming/free/functi...\n",
       "17  Dave Kuhlman                      http://www.rexx.com/~dkuhlman\n",
       "25  Doug Hellman                       http://www.doughellmann.com/\n",
       "54   David Mertz                             http://gnosis.cx/TPiP/"
      ]
     },
     "execution_count": 68,
     "metadata": {},
     "output_type": "execute_result"
    }
   ],
   "source": [
    "# df.loc[row, columns]\n",
    "authors_df.loc[mask ,:]"
   ]
  },
  {
   "cell_type": "markdown",
   "id": "acc44f6d-7ac5-407e-9831-24d94d4729bb",
   "metadata": {},
   "source": [
    "## Mask by multiple conditions:"
   ]
  },
  {
   "cell_type": "code",
   "execution_count": 69,
   "id": "ddd49a58-1a14-4e86-a8b5-f2053dae7f46",
   "metadata": {},
   "outputs": [
    {
     "name": "stdout",
     "output_type": "stream",
     "text": [
      "    a   b   c   d\n",
      "0  15  13  10  19\n",
      "1   2   6   1   6\n",
      "2   6  14  16   4\n"
     ]
    }
   ],
   "source": [
    "# let's have next df:\n",
    "num_df = pd.DataFrame(np.random.randint(1,20,size=(10, 4)), columns=list('abcd'))\n",
    "print(num_df.head(3))"
   ]
  },
  {
   "cell_type": "markdown",
   "id": "c9dfd783-8377-4acc-9f38-a76145c61ef3",
   "metadata": {},
   "source": [
    "TASK:  print only for which: \n",
    "column a and acolumn c have even numbers"
   ]
  },
  {
   "cell_type": "code",
   "execution_count": 70,
   "id": "49d3ce8c-ff18-4156-8799-0697af1fb173",
   "metadata": {},
   "outputs": [
    {
     "data": {
      "text/plain": [
       "0    False\n",
       "1    False\n",
       "2     True\n",
       "dtype: bool"
      ]
     },
     "execution_count": 70,
     "metadata": {},
     "output_type": "execute_result"
    }
   ],
   "source": [
    "# mask = (num_df.a%2==0) and (num_df.c%2==0) \n",
    "\n",
    "mask = (num_df.a%2==0) & (num_df.c%2==0)\n",
    "# mask = np.logical_and(num_df.a%2==0, num_df.c%2==0)\n",
    "mask.head(3)"
   ]
  },
  {
   "cell_type": "code",
   "execution_count": null,
   "id": "e51fc5d1-b417-4908-9c5e-f4f7f248328d",
   "metadata": {},
   "outputs": [],
   "source": []
  },
  {
   "cell_type": "code",
   "execution_count": 71,
   "id": "edafc288-a723-474c-8765-df448b276e5a",
   "metadata": {},
   "outputs": [
    {
     "data": {
      "text/html": [
       "<div>\n",
       "<style scoped>\n",
       "    .dataframe tbody tr th:only-of-type {\n",
       "        vertical-align: middle;\n",
       "    }\n",
       "\n",
       "    .dataframe tbody tr th {\n",
       "        vertical-align: top;\n",
       "    }\n",
       "\n",
       "    .dataframe thead th {\n",
       "        text-align: right;\n",
       "    }\n",
       "</style>\n",
       "<table border=\"1\" class=\"dataframe\">\n",
       "  <thead>\n",
       "    <tr style=\"text-align: right;\">\n",
       "      <th></th>\n",
       "      <th>A</th>\n",
       "      <th>B</th>\n",
       "      <th>C</th>\n",
       "      <th>D</th>\n",
       "    </tr>\n",
       "  </thead>\n",
       "  <tbody>\n",
       "    <tr>\n",
       "      <th>2</th>\n",
       "      <td>5</td>\n",
       "      <td>8</td>\n",
       "      <td>7</td>\n",
       "      <td>6</td>\n",
       "    </tr>\n",
       "    <tr>\n",
       "      <th>4</th>\n",
       "      <td>8</td>\n",
       "      <td>6</td>\n",
       "      <td>6</td>\n",
       "      <td>8</td>\n",
       "    </tr>\n",
       "    <tr>\n",
       "      <th>8</th>\n",
       "      <td>7</td>\n",
       "      <td>7</td>\n",
       "      <td>8</td>\n",
       "      <td>2</td>\n",
       "    </tr>\n",
       "  </tbody>\n",
       "</table>\n",
       "</div>"
      ],
      "text/plain": [
       "   A  B  C  D\n",
       "2  5  8  7  6\n",
       "4  8  6  6  8\n",
       "8  7  7  8  2"
      ]
     },
     "execution_count": 71,
     "metadata": {},
     "output_type": "execute_result"
    }
   ],
   "source": [
    "df.loc[ mask, :]"
   ]
  },
  {
   "cell_type": "code",
   "execution_count": 35,
   "id": "373058db-3f59-48fc-9f04-22d3f94943cc",
   "metadata": {},
   "outputs": [
    {
     "name": "stdout",
     "output_type": "stream",
     "text": [
      "0     False\n",
      "1     False\n",
      "2     False\n",
      "3     False\n",
      "4     False\n",
      "      ...  \n",
      "70    False\n",
      "71    False\n",
      "72    False\n",
      "73    False\n",
      "74    False\n",
      "Name: author, Length: 75, dtype: bool\n"
     ]
    },
    {
     "data": {
      "text/html": [
       "<div>\n",
       "<style scoped>\n",
       "    .dataframe tbody tr th:only-of-type {\n",
       "        vertical-align: middle;\n",
       "    }\n",
       "\n",
       "    .dataframe tbody tr th {\n",
       "        vertical-align: top;\n",
       "    }\n",
       "\n",
       "    .dataframe thead th {\n",
       "        text-align: right;\n",
       "    }\n",
       "</style>\n",
       "<table border=\"1\" class=\"dataframe\">\n",
       "  <thead>\n",
       "    <tr style=\"text-align: right;\">\n",
       "      <th></th>\n",
       "      <th>author</th>\n",
       "      <th>authorUrl</th>\n",
       "    </tr>\n",
       "  </thead>\n",
       "  <tbody>\n",
       "    <tr>\n",
       "      <th>0</th>\n",
       "      <td>Mike Pirnat</td>\n",
       "      <td>http://mike.pirnat.com/</td>\n",
       "    </tr>\n",
       "    <tr>\n",
       "      <th>1</th>\n",
       "      <td>David Mertz</td>\n",
       "      <td>http://www.oreilly.com/programming/free/functi...</td>\n",
       "    </tr>\n",
       "    <tr>\n",
       "      <th>2</th>\n",
       "      <td>Muhammad Yasoob</td>\n",
       "      <td>http://pythontips.com/</td>\n",
       "    </tr>\n",
       "    <tr>\n",
       "      <th>3</th>\n",
       "      <td>B. Miller &amp; D. Ranum</td>\n",
       "      <td>http://reputablejournal.com</td>\n",
       "    </tr>\n",
       "    <tr>\n",
       "      <th>4</th>\n",
       "      <td>Jeffrey Elkner...</td>\n",
       "      <td>http://greenteapress.com/</td>\n",
       "    </tr>\n",
       "    <tr>\n",
       "      <th>5</th>\n",
       "      <td>B. Miller &amp; D. Ranum</td>\n",
       "      <td>http://reputablejournal.com/</td>\n",
       "    </tr>\n",
       "    <tr>\n",
       "      <th>6</th>\n",
       "      <td>Zed A. Shaw</td>\n",
       "      <td>http://learnpythonthehardway.org/</td>\n",
       "    </tr>\n",
       "    <tr>\n",
       "      <th>7</th>\n",
       "      <td>Mark Pilgrim</td>\n",
       "      <td>http://getpython3.com/diveintopython3/</td>\n",
       "    </tr>\n",
       "    <tr>\n",
       "      <th>8</th>\n",
       "      <td>Mark Pilgrim</td>\n",
       "      <td>http://getpython3.com/diveintopython3/</td>\n",
       "    </tr>\n",
       "    <tr>\n",
       "      <th>9</th>\n",
       "      <td>Allen B. Downey</td>\n",
       "      <td>http://www.greenteapress.com/</td>\n",
       "    </tr>\n",
       "  </tbody>\n",
       "</table>\n",
       "</div>"
      ],
      "text/plain": [
       "                 author                                          authorUrl\n",
       "0           Mike Pirnat                            http://mike.pirnat.com/\n",
       "1           David Mertz  http://www.oreilly.com/programming/free/functi...\n",
       "2       Muhammad Yasoob                             http://pythontips.com/\n",
       "3  B. Miller & D. Ranum                        http://reputablejournal.com\n",
       "4     Jeffrey Elkner...                          http://greenteapress.com/\n",
       "5  B. Miller & D. Ranum                       http://reputablejournal.com/\n",
       "6           Zed A. Shaw                  http://learnpythonthehardway.org/\n",
       "7          Mark Pilgrim             http://getpython3.com/diveintopython3/\n",
       "8          Mark Pilgrim             http://getpython3.com/diveintopython3/\n",
       "9       Allen B. Downey                      http://www.greenteapress.com/"
      ]
     },
     "execution_count": 35,
     "metadata": {},
     "output_type": "execute_result"
    }
   ],
   "source": [
    "# TODO: why not work\n",
    "mask = ( authors_df.author.str.contains(\"free\") )\n",
    "print(mask)\n",
    "authors_df.head(10)"
   ]
  },
  {
   "cell_type": "code",
   "execution_count": null,
   "id": "1de6e640-5060-470c-8ae5-d1c8a0e62809",
   "metadata": {},
   "outputs": [],
   "source": []
  },
  {
   "cell_type": "code",
   "execution_count": null,
   "id": "7b194988-8d08-4d0b-a067-b48f1e580e67",
   "metadata": {},
   "outputs": [],
   "source": []
  },
  {
   "cell_type": "code",
   "execution_count": null,
   "id": "682b1171-1ae4-4929-a3aa-f1a1cd819e2a",
   "metadata": {},
   "outputs": [],
   "source": []
  },
  {
   "cell_type": "code",
   "execution_count": null,
   "id": "7d7c9c16-f241-40cb-91de-22802b712277",
   "metadata": {},
   "outputs": [],
   "source": []
  }
 ],
 "metadata": {
  "interpreter": {
   "hash": "6ff067a0fdd468d21234896ffbb9cd57a905a2e40964bad2ca7f8fead7ef9bc7"
  },
  "kernelspec": {
   "display_name": "Python 3.9.7 64-bit ('ml_python_3.9': pyenv)",
   "name": "python3"
  },
  "language_info": {
   "codemirror_mode": {
    "name": "ipython",
    "version": 3
   },
   "file_extension": ".py",
   "mimetype": "text/x-python",
   "name": "python",
   "nbconvert_exporter": "python",
   "pygments_lexer": "ipython3",
   "version": "3.9.7"
  }
 },
 "nbformat": 4,
 "nbformat_minor": 5
}
