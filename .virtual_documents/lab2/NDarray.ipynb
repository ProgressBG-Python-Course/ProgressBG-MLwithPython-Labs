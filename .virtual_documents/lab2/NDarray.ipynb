import numpy as np


a = np.array([[1,2,3],[4,5,6]])
a


b = np.empty( (3,2), dtype=np.int8  )
b


# np.arange(start, stop-1 ,step)
a1 = np.arange(1, 11,1) # start=0 and step = 1 are defaults, so can be omitted
print(f'a1: {a1}')

a2 = np.arange(10)
print(f'a2: {a2}')

a3 = np.arange(1,11,2)
print(f'a3: {a3}')


a1 = np.array([[1,2,3],[4,5,6]])
print(a1)
a1.shape


a2 = np.arange(10)
print(a2)
a2.shape


print(a1.ndim)
print(a2.ndim)


a1.dtype


a1.size


a1.itemsize


a1.nbytes


l = list(range(100))
a = np.arange(100,dtype="int8")

# using the Python sys.getsizeof() method:
import sys
print(sys.getsizeof(l))
print(sys.getsizeof(a))

# using the nbytes ndarray atribute
print(a.nbytes)


a = np.array([[1,2,3],[4,5,6]])
b = np.array([[1,2,3],[4,5,6]])

print("The result of a+2 is:")
print(a+2)
print("The result of a+b is:")
print(a+b)


a = np.array([[1,2,3],[4,5,6]])
b = np.array([[1,2],[3,4],[5,6]])

a.dot(b)


b.dot(a)


# compare array with single value:
a = np.array([1,2,3])
print(a<2)

# compare array with array (with same shape):
b = np.array([4,5,1])
print(a < b)



a1 = np.arange(1,10)
print(a1)

print("\npositive index - from left to right - a1[1]")
print(a1[1])

print("\nnegative index - from right to left - a1[-1]")
print(a1[-1])

print("\nget elements with indexes 0 upto 3 (excluded) - a1[0:3]")
print(a1[0:3])

print("\nget all elements - a1[:]")
print(a1[:])

print("\nget all elements, without the last one - a1[:-1]")
print(a1[:-1])

print("\nslicing with step - a1[0:9:2]")
print(a1[0:9:2])

print("\nslicing with step - backwards - a1[-1::-2]")
print(a1[-1::-2])


# let's have the array:
a1 = np.arange(1,10).reshape(3,3)
print(a1)


# get an element with tuple index
a1[1,2]


# get an element with indx chaining index - DO NOT USE THAT!
a1[1][2]


a1 = np.arange(1,10)
print(a1)

print( list(a1[0:2:1]) )

# all defaults - returns a copy
print( list(a1[::]) )
print( list(a1[:]) )

# stop default - untill the end of array, inclusive
print( list(a1[2::]) )



m = np.arange(1,10).reshape(3,3)
print(m)

print("\nSlice the first row - m[0,:]")
print(m[0,:])

print("\nSlice the first column - m[:,0]")
print(m[:,0])

print("\nSlice first 2 rows and columns - m[0:2, 0:2]")
print(m[0:2, 0:2])

print("\nSlice the corner elements - m[0::2, 0::2]")
m[0::2, 0::2]


# this is the original array:
a = np.arange(1,6)
print(a)

# this is the mask:
mask = [True, True, False, True, False]

# lets apply the mask:
print(a[mask])


# let's have a bigger array:
a = np.arange(1,20)

# and get only even numbers from it:
a[a%2==0]


# let's have a numpy array of repeated values 0, 1 or 2:
indexes = np.array([0, 2, 1, 2, 0, 1,2])

# and a list of colors:
colors = ['red', 'green', 'blue']

# let's group the elements of the 'indexes' array by color, according to 
# their values, which will be used as indexes in colors list
# For simplicity, we'll just print the groups, but if we need, we can save them in dictionary
for i in range(len(colors)):  
    print(f"{colors[i]} group:")
    print(indexes[indexes==i])
    


scores = np.array([
    [4, 1],
    [2, 0],
    [3, 0],
    [5, 1],
    [6, 1]
])

categories = ['good','bad']


for i in range(len(categories)):  
    # make the mask:
    mask = scores[:,1] == i
    print(mask)
    
    # now apply it to scores:
    print(f"\n{categories[i]} scores are:")
    print(scores[mask,0])


a = np.array([[1,2,3],[4,5,6]])
a.ravel()


a = np.arange(1,10)
a


a.reshape(3,3)


a.reshape(1,9)
