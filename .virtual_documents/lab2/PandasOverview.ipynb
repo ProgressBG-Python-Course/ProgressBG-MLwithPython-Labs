import pandas as pd


s1 = pd.Series(range(10))


s1 


s1[-3:]


s2 =  pd.Series({
  "d":4,
  "a":1,
  "c":3,
  "b":2,
  "e":5
})
print(s2)


s2[['a','b']]



