import numpy as 



SIZE = 2_000_000

# Create Python's lists
l1 = list(range(SIZE))
l2 = list(range(SIZE))


a1=np.arange(SIZE)
a2=np.arange(SIZE)


def python_lists():
    result = [(x+y) for x,y in zip(l1,l2)]
    print(result[0:10])

    
def numpy_arrays():
    result = a1 + a2
    print(result[0:10])


get_ipython().run_line_magic("time", " python_lists()")
print('-'*50)
get_ipython().run_line_magic("time", " numpy_arrays()")


get_ipython().run_cell_magic("bash", "", """ls -l""")


# create 1 dim array from python list (1..10)


l = range(10)
print(l)

a1 = np.array(l, dtype="int8")
print(a1.dtype)


a1.shape


a2 = np.full((3,3), 1)
print(a2)


a1


print(a1[0:3:-1])


a3 = a1.reshape((5,2))


a3.shape


a3


a3[2,1]


# TODO: check docs better
m1 = np.tri(10, 10, -1)


m1


mask = m1>0
mask



