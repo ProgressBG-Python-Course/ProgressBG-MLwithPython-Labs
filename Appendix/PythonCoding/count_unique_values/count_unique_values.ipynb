{
 "cells": [
  {
   "cell_type": "markdown",
   "metadata": {},
   "source": [
    "### Calc unique values-counts in list/ndarray\n",
    "\n",
    "Let's see different versions of doing that task and measure the speed of each approach."
   ]
  },
  {
   "cell_type": "code",
   "execution_count": 1,
   "metadata": {},
   "outputs": [],
   "source": [
    "import numpy as np\n",
    "from collections import defaultdict,Counter"
   ]
  },
  {
   "cell_type": "code",
   "execution_count": 2,
   "metadata": {
    "code_folding": []
   },
   "outputs": [],
   "source": [
    "def get_values_counts_as_dict_1(atribute_list):\n",
    "    \"\"\"values_counts counter with python dictionary (defaultdict)\"\"\"    \n",
    "    values_counts = defaultdict(int)\n",
    "    \n",
    "    for val in atribute_list:\n",
    "        values_counts[val] += 1\n",
    "\n",
    "    return values_counts    "
   ]
  },
  {
   "cell_type": "code",
   "execution_count": 3,
   "metadata": {
    "code_folding": []
   },
   "outputs": [],
   "source": [
    "def get_values_counts_as_dict_2(attribute_list):\n",
    "    \"\"\"values_counts counter with python list.count() method\"\"\"\n",
    "    values_counts = {}\n",
    "    \n",
    "    for val in set(attribute_list):\n",
    "        values_counts[val] = attribute_list.count(val)\n",
    "\n",
    "    return values_counts"
   ]
  },
  {
   "cell_type": "code",
   "execution_count": 4,
   "metadata": {
    "code_folding": []
   },
   "outputs": [],
   "source": [
    "def get_values_counts_as_dict_3(attribute_list):\n",
    "    \"\"\"values_counts counter with python Counter dict subclass\"\"\"    \n",
    "    return Counter(attribute_list)"
   ]
  },
  {
   "cell_type": "code",
   "execution_count": 5,
   "metadata": {
    "code_folding": []
   },
   "outputs": [],
   "source": [
    "def get_values_countes_as_2d_array(attribute_list):\n",
    "    \"\"\"values_counts counter with np.unique method\"\"\"\n",
    "    values, counts = np.unique(attribute_list, return_counts=True)\n",
    "    \n",
    "    return [values, counts]"
   ]
  },
  {
   "cell_type": "markdown",
   "metadata": {},
   "source": [
    "### Speed timing"
   ]
  },
  {
   "cell_type": "code",
   "execution_count": 6,
   "metadata": {
    "code_folding": []
   },
   "outputs": [],
   "source": [
    "def timing_values_counts(arr):\n",
    "    the_list = list(arr)    \n",
    "    print('Testing on Python list with len: {}'.format(len(the_list)))\n",
    "    \n",
    "    print('\\n{}:'.format(get_values_counts_as_dict_1.__doc__))\n",
    "    %timeit -n1 get_values_counts_as_dict_1(the_list)\n",
    "    \n",
    "    print('\\n{}:'.format(get_values_counts_as_dict_2.__doc__))\n",
    "    %timeit -n1 get_values_counts_as_dict_2(the_list)        \n",
    "    \n",
    "    print('\\n{}:'.format(get_values_counts_as_dict_3.__doc__))\n",
    "    %timeit -n1 get_values_counts_as_dict_3(the_list)\n",
    "       \n",
    "\n",
    "    print('\\nTiming get_values_counts_as_2d_array')\n",
    "    %timeit -n1 get_values_counts_as_2d_array(arr)"
   ]
  },
  {
   "cell_type": "code",
   "execution_count": 7,
   "metadata": {},
   "outputs": [
    {
     "ename": "NameError",
     "evalue": "name 'timing_values_countes' is not defined",
     "output_type": "error",
     "traceback": [
      "\u001b[0;31m---------------------------------------------------------------------------\u001b[0m",
      "\u001b[0;31mNameError\u001b[0m                                 Traceback (most recent call last)",
      "\u001b[0;32m<ipython-input-7-045932bd9418>\u001b[0m in \u001b[0;36m<module>\u001b[0;34m\u001b[0m\n\u001b[1;32m      4\u001b[0m \u001b[0mnp\u001b[0m\u001b[0;34m.\u001b[0m\u001b[0mrandom\u001b[0m\u001b[0;34m.\u001b[0m\u001b[0mshuffle\u001b[0m\u001b[0;34m(\u001b[0m\u001b[0marr\u001b[0m\u001b[0;34m)\u001b[0m\u001b[0;34m\u001b[0m\u001b[0m\n\u001b[1;32m      5\u001b[0m \u001b[0;34m\u001b[0m\u001b[0m\n\u001b[0;32m----> 6\u001b[0;31m \u001b[0mtiming_values_countes\u001b[0m\u001b[0;34m(\u001b[0m\u001b[0marr\u001b[0m\u001b[0;34m)\u001b[0m\u001b[0;34m\u001b[0m\u001b[0m\n\u001b[0m",
      "\u001b[0;31mNameError\u001b[0m: name 'timing_values_countes' is not defined"
     ]
    }
   ],
   "source": [
    "length_factor = 100000\n",
    "\n",
    "arr = np.repeat(np.array(['red','green','blue']),length_factor)\n",
    "np.random.shuffle(arr) \n",
    "\n",
    "timing_values_counts(arr)"
   ]
  },
  {
   "cell_type": "code",
   "execution_count": null,
   "metadata": {},
   "outputs": [],
   "source": []
  }
 ],
 "metadata": {
  "kernelspec": {
   "display_name": "Python 3",
   "language": "python",
   "name": "python3"
  },
  "language_info": {
   "codemirror_mode": {
    "name": "ipython",
    "version": 3
   },
   "file_extension": ".py",
   "mimetype": "text/x-python",
   "name": "python",
   "nbconvert_exporter": "python",
   "pygments_lexer": "ipython3",
   "version": "3.7.0"
  },
  "toc": {
   "base_numbering": 1,
   "nav_menu": {},
   "number_sections": true,
   "sideBar": true,
   "skip_h1_title": true,
   "title_cell": "Table of Contents",
   "title_sidebar": "Content",
   "toc_cell": false,
   "toc_position": {},
   "toc_section_display": true,
   "toc_window_display": true
  }
 },
 "nbformat": 4,
 "nbformat_minor": 2
}
