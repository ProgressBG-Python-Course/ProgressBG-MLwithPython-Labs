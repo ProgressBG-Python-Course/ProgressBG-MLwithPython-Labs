{
 "cells": [
  {
   "cell_type": "markdown",
   "id": "12b5a60e-8200-4ad9-9839-3a4b1dbc3e06",
   "metadata": {
    "tags": []
   },
   "source": [
    "# Numpy Intro"
   ]
  },
  {
   "cell_type": "code",
   "execution_count": 9,
   "id": "eb059a72-5dc1-4255-8644-a94dafb18f39",
   "metadata": {},
   "outputs": [],
   "source": [
    "import numpy as \n"
   ]
  },
  {
   "cell_type": "markdown",
   "id": "108f56bf-714c-4d37-8820-5db2aeff6f03",
   "metadata": {},
   "source": [
    "## Speed Test"
   ]
  },
  {
   "cell_type": "code",
   "execution_count": 10,
   "id": "b8a526a9-64db-4886-ace7-81591a37d715",
   "metadata": {},
   "outputs": [],
   "source": [
    "SIZE = 2_000_000\n",
    "\n",
    "# Create Python's lists\n",
    "l1 = list(range(SIZE))\n",
    "l2 = list(range(SIZE))"
   ]
  },
  {
   "cell_type": "markdown",
   "id": "1769127c-74db-41d6-b0a7-52a09033f070",
   "metadata": {},
   "source": [
    "# Create Numpy Arrays"
   ]
  },
  {
   "cell_type": "code",
   "execution_count": 11,
   "id": "5cd65556-07c7-4182-9930-88dbdec3586e",
   "metadata": {},
   "outputs": [],
   "source": [
    "a1=np.arange(SIZE)\n",
    "a2=np.arange(SIZE)"
   ]
  },
  {
   "cell_type": "code",
   "execution_count": 12,
   "id": "a88dc0df-3345-4591-8ed4-66f496235824",
   "metadata": {},
   "outputs": [],
   "source": [
    "def python_lists():\n",
    "    result = [(x+y) for x,y in zip(l1,l2)]\n",
    "    print(result[0:10])\n",
    "\n",
    "    \n",
    "def numpy_arrays():\n",
    "    result = a1 + a2\n",
    "    print(result[0:10])"
   ]
  },
  {
   "cell_type": "code",
   "execution_count": 13,
   "id": "a73d18ed-223b-4a87-935c-0247f2abcffe",
   "metadata": {},
   "outputs": [
    {
     "name": "stdout",
     "output_type": "stream",
     "text": [
      "[0, 2, 4, 6, 8, 10, 12, 14, 16, 18]\n",
      "CPU times: user 200 ms, sys: 23.9 ms, total: 224 ms\n",
      "Wall time: 227 ms\n",
      "--------------------------------------------------\n",
      "[ 0  2  4  6  8 10 12 14 16 18]\n",
      "CPU times: user 5.77 ms, sys: 3.49 ms, total: 9.26 ms\n",
      "Wall time: 11.6 ms\n"
     ]
    }
   ],
   "source": [
    "%time python_lists()\n",
    "print('-'*50)\n",
    "%time numpy_arrays()"
   ]
  },
  {
   "cell_type": "code",
   "execution_count": 14,
   "id": "c1960203-6ca8-4687-b104-9f0d901e3aca",
   "metadata": {},
   "outputs": [
    {
     "name": "stdout",
     "output_type": "stream",
     "text": [
      "total 8\n",
      "-rw-rw-r-- 1 nemsys nemsys    0 Oct 20 14:39 jupyter_examples\n",
      "-rw-rw-r-- 1 nemsys nemsys 2923 Oct 20 15:28 numpy_intro.ipynb\n",
      "-rw-rw-r-- 1 nemsys nemsys 2047 Oct 20 15:03 Untitled.ipynb\n"
     ]
    }
   ],
   "source": [
    "%%bash\n",
    "ls -l"
   ]
  },
  {
   "cell_type": "markdown",
   "id": "7d9d9710-2e4e-4b4b-ac67-4eb10b3558a1",
   "metadata": {},
   "source": [
    "## Numpy create methods"
   ]
  },
  {
   "cell_type": "code",
   "execution_count": 15,
   "id": "921297c8-c393-4321-b0b5-d2197632f0ce",
   "metadata": {},
   "outputs": [],
   "source": [
    "# create 1 dim array from python list (1..10)"
   ]
  },
  {
   "cell_type": "code",
   "execution_count": 24,
   "id": "00ffe47e-3ee2-4982-858a-bb9bc62e6b26",
   "metadata": {},
   "outputs": [
    {
     "name": "stdout",
     "output_type": "stream",
     "text": [
      "range(0, 10)\n",
      "int8\n"
     ]
    }
   ],
   "source": [
    "l = range(10)\n",
    "print(l)\n",
    "\n",
    "a1 = np.array(l, dtype=\"int8\")\n",
    "print(a1.dtype)"
   ]
  },
  {
   "cell_type": "code",
   "execution_count": 19,
   "id": "9999a7a1-5204-4f12-aa6d-e350079c55df",
   "metadata": {},
   "outputs": [
    {
     "data": {
      "text/plain": [
       "(10,)"
      ]
     },
     "execution_count": 19,
     "metadata": {},
     "output_type": "execute_result"
    }
   ],
   "source": [
    "a1.shape"
   ]
  },
  {
   "cell_type": "code",
   "execution_count": 22,
   "id": "ccbf5afe-7b30-4bf9-9ce6-84df94651052",
   "metadata": {},
   "outputs": [
    {
     "name": "stdout",
     "output_type": "stream",
     "text": [
      "[[1 1 1]\n",
      " [1 1 1]\n",
      " [1 1 1]]\n"
     ]
    }
   ],
   "source": [
    "a2 = np.full((3,3), 1)\n",
    "print(a2)"
   ]
  },
  {
   "cell_type": "markdown",
   "id": "e1023b36-e7fd-4dca-99e6-0c1c7fff06fc",
   "metadata": {},
   "source": [
    "### Numpy Array Slicing"
   ]
  },
  {
   "cell_type": "code",
   "execution_count": 25,
   "id": "d63d27fe-f71d-4c13-a52d-b579843e2413",
   "metadata": {},
   "outputs": [
    {
     "data": {
      "text/plain": [
       "array([0, 1, 2, 3, 4, 5, 6, 7, 8, 9], dtype=int8)"
      ]
     },
     "execution_count": 25,
     "metadata": {},
     "output_type": "execute_result"
    }
   ],
   "source": [
    "a1"
   ]
  },
  {
   "cell_type": "code",
   "execution_count": 32,
   "id": "3215b95f-5bab-4c58-980d-0384f66f96c9",
   "metadata": {},
   "outputs": [
    {
     "name": "stdout",
     "output_type": "stream",
     "text": [
      "[]\n"
     ]
    }
   ],
   "source": [
    "print(a1[0:3:-1])"
   ]
  },
  {
   "cell_type": "code",
   "execution_count": 33,
   "id": "1dae986f-c63e-4af4-a7f7-9c81895d1dbc",
   "metadata": {},
   "outputs": [],
   "source": [
    "a3 = a1.reshape((5,2))"
   ]
  },
  {
   "cell_type": "code",
   "execution_count": 34,
   "id": "88d82f7f-71dd-48fb-b6f3-3b97079bc86d",
   "metadata": {},
   "outputs": [
    {
     "data": {
      "text/plain": [
       "(5, 2)"
      ]
     },
     "execution_count": 34,
     "metadata": {},
     "output_type": "execute_result"
    }
   ],
   "source": [
    "a3.shape"
   ]
  },
  {
   "cell_type": "code",
   "execution_count": 35,
   "id": "ffc3e029-0d31-492a-868a-7d62bb0a348b",
   "metadata": {},
   "outputs": [
    {
     "data": {
      "text/plain": [
       "array([[0, 1],\n",
       "       [2, 3],\n",
       "       [4, 5],\n",
       "       [6, 7],\n",
       "       [8, 9]], dtype=int8)"
      ]
     },
     "execution_count": 35,
     "metadata": {},
     "output_type": "execute_result"
    }
   ],
   "source": [
    "a3"
   ]
  },
  {
   "cell_type": "code",
   "execution_count": 38,
   "id": "20d4033f-1984-453b-b65c-a7f966859cc8",
   "metadata": {},
   "outputs": [
    {
     "data": {
      "text/plain": [
       "5"
      ]
     },
     "execution_count": 38,
     "metadata": {},
     "output_type": "execute_result"
    }
   ],
   "source": [
    "a3[2,1]"
   ]
  },
  {
   "cell_type": "markdown",
   "id": "d0e82bb7-5ac8-4749-a12d-34a9b831bafd",
   "metadata": {},
   "source": [
    "### Crete matrix (10, 10) filled with 1 only in elements above main diagonal"
   ]
  },
  {
   "cell_type": "code",
   "execution_count": 41,
   "id": "2dca2611-d96a-42b7-9e23-d8cb8dbc8200",
   "metadata": {},
   "outputs": [],
   "source": [
    "# TODO: check docs better\n",
    "m1 = np.tri(10, 10, -1)"
   ]
  },
  {
   "cell_type": "code",
   "execution_count": 42,
   "id": "cc1d96d1-4fff-419b-971b-6a07b6efa284",
   "metadata": {},
   "outputs": [
    {
     "data": {
      "text/plain": [
       "array([[0., 0., 0., 0., 0., 0., 0., 0., 0., 0.],\n",
       "       [1., 0., 0., 0., 0., 0., 0., 0., 0., 0.],\n",
       "       [1., 1., 0., 0., 0., 0., 0., 0., 0., 0.],\n",
       "       [1., 1., 1., 0., 0., 0., 0., 0., 0., 0.],\n",
       "       [1., 1., 1., 1., 0., 0., 0., 0., 0., 0.],\n",
       "       [1., 1., 1., 1., 1., 0., 0., 0., 0., 0.],\n",
       "       [1., 1., 1., 1., 1., 1., 0., 0., 0., 0.],\n",
       "       [1., 1., 1., 1., 1., 1., 1., 0., 0., 0.],\n",
       "       [1., 1., 1., 1., 1., 1., 1., 1., 0., 0.],\n",
       "       [1., 1., 1., 1., 1., 1., 1., 1., 1., 0.]])"
      ]
     },
     "execution_count": 42,
     "metadata": {},
     "output_type": "execute_result"
    }
   ],
   "source": [
    "m1"
   ]
  },
  {
   "cell_type": "code",
   "execution_count": 43,
   "id": "3eb42959-a049-458e-b78c-35487429a038",
   "metadata": {},
   "outputs": [
    {
     "data": {
      "text/plain": [
       "array([[False, False, False, False, False, False, False, False, False,\n",
       "        False],\n",
       "       [ True, False, False, False, False, False, False, False, False,\n",
       "        False],\n",
       "       [ True,  True, False, False, False, False, False, False, False,\n",
       "        False],\n",
       "       [ True,  True,  True, False, False, False, False, False, False,\n",
       "        False],\n",
       "       [ True,  True,  True,  True, False, False, False, False, False,\n",
       "        False],\n",
       "       [ True,  True,  True,  True,  True, False, False, False, False,\n",
       "        False],\n",
       "       [ True,  True,  True,  True,  True,  True, False, False, False,\n",
       "        False],\n",
       "       [ True,  True,  True,  True,  True,  True,  True, False, False,\n",
       "        False],\n",
       "       [ True,  True,  True,  True,  True,  True,  True,  True, False,\n",
       "        False],\n",
       "       [ True,  True,  True,  True,  True,  True,  True,  True,  True,\n",
       "        False]])"
      ]
     },
     "execution_count": 43,
     "metadata": {},
     "output_type": "execute_result"
    }
   ],
   "source": [
    "mask = m1>0\n",
    "mask"
   ]
  },
  {
   "cell_type": "code",
   "execution_count": null,
   "id": "994093c8-45ff-4b55-8a1e-f78584a30d22",
   "metadata": {},
   "outputs": [],
   "source": []
  }
 ],
 "metadata": {
  "kernelspec": {
   "display_name": "Python 3.9.7 64-bit",
   "language": "python",
   "name": "python397jvsc74a57bd07ef34a38daba4028684b1a7a11c8b9549058b65defd2f9278e002c4c74aa8a9f"
  },
  "language_info": {
   "codemirror_mode": {
    "name": "ipython",
    "version": 3
   },
   "file_extension": ".py",
   "mimetype": "text/x-python",
   "name": "python",
   "nbconvert_exporter": "python",
   "pygments_lexer": "ipython3",
   "version": "3.9.7"
  }
 },
 "nbformat": 4,
 "nbformat_minor": 5
}
