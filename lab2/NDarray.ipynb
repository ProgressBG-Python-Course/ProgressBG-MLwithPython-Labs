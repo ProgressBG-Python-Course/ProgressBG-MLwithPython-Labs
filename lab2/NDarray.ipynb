{
 "cells": [
  {
   "cell_type": "markdown",
   "metadata": {
    "toc-hr-collapsed": false
   },
   "source": [
    "# NumPy ndarray object"
   ]
  },
  {
   "cell_type": "markdown",
   "metadata": {},
   "source": [
    "An array object that represents a **multidimensional**, **homogeneous** array of **fixed-size** items"
   ]
  },
  {
   "cell_type": "markdown",
   "metadata": {
    "toc-hr-collapsed": true
   },
   "source": [
    "## Create Methods\n",
    "\n",
    "Reference: https://docs.scipy.org/doc/numpy/reference/routines.array-creation.html"
   ]
  },
  {
   "cell_type": "code",
   "execution_count": 2,
   "metadata": {},
   "outputs": [],
   "source": [
    "import numpy as np"
   ]
  },
  {
   "cell_type": "markdown",
   "metadata": {},
   "source": [
    "### Create N dimensional arrays:"
   ]
  },
  {
   "cell_type": "markdown",
   "metadata": {},
   "source": [
    "By literal - note that the number of opening squares equals the dimension"
   ]
  },
  {
   "cell_type": "code",
   "execution_count": 3,
   "metadata": {},
   "outputs": [
    {
     "data": {
      "text/plain": [
       "array([[1, 2, 3],\n",
       "       [4, 5, 6]])"
      ]
     },
     "execution_count": 3,
     "metadata": {},
     "output_type": "execute_result"
    }
   ],
   "source": [
    "a = np.array([[1,2,3],[4,5,6]])\n",
    "a"
   ]
  },
  {
   "cell_type": "markdown",
   "metadata": {},
   "source": [
    "Create array filled with random values: __np.empty__ of type __np.int8__"
   ]
  },
  {
   "cell_type": "code",
   "execution_count": 4,
   "metadata": {},
   "outputs": [
    {
     "data": {
      "text/plain": [
       "array([[-120, -117],\n",
       "       [ -21,  114],\n",
       "       [  19,  127]], dtype=int8)"
      ]
     },
     "execution_count": 4,
     "metadata": {},
     "output_type": "execute_result"
    }
   ],
   "source": [
    "b = np.empty( (3,2), dtype=np.int8  )\n",
    "b"
   ]
  },
  {
   "cell_type": "markdown",
   "metadata": {},
   "source": [
    "Create array by __np.arange()__ method (quite simmilar to python's __range()__)"
   ]
  },
  {
   "cell_type": "code",
   "execution_count": 5,
   "metadata": {},
   "outputs": [
    {
     "name": "stdout",
     "output_type": "stream",
     "text": [
      "a1: [ 1  2  3  4  5  6  7  8  9 10]\n",
      "a2: [0 1 2 3 4 5 6 7 8 9]\n",
      "a3: [1 3 5 7 9]\n"
     ]
    }
   ],
   "source": [
    "# np.arange(start, stop-1 ,step)\n",
    "a1 = np.arange(1, 11,1) # start=0 and step = 1 are defaults, so can be omitted\n",
    "print(f'a1: {a1}')\n",
    "\n",
    "a2 = np.arange(10)\n",
    "print(f'a2: {a2}')\n",
    "\n",
    "a3 = np.arange(1,11,2)\n",
    "print(f'a3: {a3}')"
   ]
  },
  {
   "cell_type": "markdown",
   "metadata": {
    "toc-hr-collapsed": true
   },
   "source": [
    "## Basic Properties:"
   ]
  },
  {
   "cell_type": "markdown",
   "metadata": {},
   "source": [
    "### shape - tuple of array dimensions"
   ]
  },
  {
   "cell_type": "code",
   "execution_count": 6,
   "metadata": {},
   "outputs": [
    {
     "name": "stdout",
     "output_type": "stream",
     "text": [
      "[[1 2 3]\n",
      " [4 5 6]]\n"
     ]
    },
    {
     "data": {
      "text/plain": [
       "(2, 3)"
      ]
     },
     "execution_count": 6,
     "metadata": {},
     "output_type": "execute_result"
    }
   ],
   "source": [
    "a1 = np.array([[1,2,3],[4,5,6]])\n",
    "print(a1)\n",
    "a1.shape"
   ]
  },
  {
   "cell_type": "code",
   "execution_count": 7,
   "metadata": {},
   "outputs": [
    {
     "name": "stdout",
     "output_type": "stream",
     "text": [
      "[0 1 2 3 4 5 6 7 8 9]\n"
     ]
    },
    {
     "data": {
      "text/plain": [
       "(10,)"
      ]
     },
     "execution_count": 7,
     "metadata": {},
     "output_type": "execute_result"
    }
   ],
   "source": [
    "a2 = np.arange(10)\n",
    "print(a2)\n",
    "a2.shape"
   ]
  },
  {
   "cell_type": "markdown",
   "metadata": {},
   "source": [
    "Note that the tuple (10, ) should be read as containg only one element, i.e - the number 10"
   ]
  },
  {
   "cell_type": "markdown",
   "metadata": {},
   "source": [
    "### ndim - number of array dimensions"
   ]
  },
  {
   "cell_type": "code",
   "execution_count": 8,
   "metadata": {},
   "outputs": [
    {
     "name": "stdout",
     "output_type": "stream",
     "text": [
      "2\n",
      "1\n"
     ]
    }
   ],
   "source": [
    "print(a1.ndim)\n",
    "print(a2.ndim)"
   ]
  },
  {
   "cell_type": "markdown",
   "metadata": {},
   "source": [
    "### dtype - data-type of the array’s elements"
   ]
  },
  {
   "cell_type": "code",
   "execution_count": 9,
   "metadata": {},
   "outputs": [
    {
     "data": {
      "text/plain": [
       "dtype('int64')"
      ]
     },
     "execution_count": 9,
     "metadata": {},
     "output_type": "execute_result"
    }
   ],
   "source": [
    "a1.dtype"
   ]
  },
  {
   "cell_type": "markdown",
   "metadata": {},
   "source": [
    "### size - number of elements in the array"
   ]
  },
  {
   "cell_type": "code",
   "execution_count": 10,
   "metadata": {},
   "outputs": [
    {
     "data": {
      "text/plain": [
       "6"
      ]
     },
     "execution_count": 10,
     "metadata": {},
     "output_type": "execute_result"
    }
   ],
   "source": [
    "a1.size"
   ]
  },
  {
   "cell_type": "markdown",
   "metadata": {},
   "source": [
    "### itemsize - length of one array element in bytes."
   ]
  },
  {
   "cell_type": "code",
   "execution_count": 11,
   "metadata": {},
   "outputs": [
    {
     "data": {
      "text/plain": [
       "8"
      ]
     },
     "execution_count": 11,
     "metadata": {},
     "output_type": "execute_result"
    }
   ],
   "source": [
    "a1.itemsize"
   ]
  },
  {
   "cell_type": "markdown",
   "metadata": {
    "toc-hr-collapsed": false
   },
   "source": [
    "### nbytes - total bytes consumed by the elements of the array"
   ]
  },
  {
   "cell_type": "code",
   "execution_count": 12,
   "metadata": {},
   "outputs": [
    {
     "data": {
      "text/plain": [
       "48"
      ]
     },
     "execution_count": 12,
     "metadata": {},
     "output_type": "execute_result"
    }
   ],
   "source": [
    "a1.nbytes"
   ]
  },
  {
   "cell_type": "markdown",
   "metadata": {},
   "source": [
    "### Memory comparison between Python's list and ndarray"
   ]
  },
  {
   "cell_type": "code",
   "execution_count": 13,
   "metadata": {},
   "outputs": [
    {
     "name": "stdout",
     "output_type": "stream",
     "text": [
      "856\n",
      "204\n",
      "100\n"
     ]
    }
   ],
   "source": [
    "l = list(range(100))\n",
    "a = np.arange(100,dtype=\"int8\")\n",
    "\n",
    "# using the Python sys.getsizeof() method:\n",
    "import sys\n",
    "print(sys.getsizeof(l))\n",
    "print(sys.getsizeof(a))\n",
    "\n",
    "# using the nbytes ndarray atribute\n",
    "print(a.nbytes)"
   ]
  },
  {
   "cell_type": "markdown",
   "metadata": {},
   "source": [
    "## Arrays Algebra (Element Wise)"
   ]
  },
  {
   "cell_type": "code",
   "execution_count": 14,
   "metadata": {},
   "outputs": [
    {
     "name": "stdout",
     "output_type": "stream",
     "text": [
      "The result of a+2 is:\n",
      "[[3 4 5]\n",
      " [6 7 8]]\n",
      "The result of a+b is:\n",
      "[[ 2  4  6]\n",
      " [ 8 10 12]]\n"
     ]
    }
   ],
   "source": [
    "a = np.array([[1,2,3],[4,5,6]])\n",
    "b = np.array([[1,2,3],[4,5,6]])\n",
    "\n",
    "print(\"The result of a+2 is:\")\n",
    "print(a+2)\n",
    "print(\"The result of a+b is:\")\n",
    "print(a+b)"
   ]
  },
  {
   "cell_type": "markdown",
   "metadata": {},
   "source": [
    "### matrix product: __dot()__ product"
   ]
  },
  {
   "cell_type": "markdown",
   "metadata": {},
   "source": [
    "<img src=\"https://upload.wikimedia.org/wikipedia/commons/thumb/1/18/Matrix_multiplication_qtl1.svg/930px-Matrix_multiplication_qtl1.svg.png\" style=\"width:50%\">"
   ]
  },
  {
   "cell_type": "code",
   "execution_count": 16,
   "metadata": {},
   "outputs": [
    {
     "name": "stdout",
     "output_type": "stream",
     "text": [
      "22\n",
      "28\n"
     ]
    },
    {
     "data": {
      "text/plain": [
       "array([[22, 28],\n",
       "       [49, 64]])"
      ]
     },
     "execution_count": 16,
     "metadata": {},
     "output_type": "execute_result"
    }
   ],
   "source": [
    "a = np.array([\n",
    "\t[1, 2, 3],\n",
    "\t[4, 5, 6]\n",
    "])\n",
    "b = np.array([\n",
    "\t[1,2],\n",
    "\t[3,4],\n",
    "\t[5,6]\n",
    "])\n",
    "\n",
    "# print(1*1+2*3+3*5)\n",
    "# print(1*2+2*4+3*6)\n",
    "\n",
    "a.dot(b)"
   ]
  },
  {
   "cell_type": "code",
   "execution_count": 21,
   "metadata": {},
   "outputs": [
    {
     "data": {
      "text/plain": [
       "array([[ 9, 12, 15],\n",
       "       [19, 26, 33],\n",
       "       [29, 40, 51]])"
      ]
     },
     "execution_count": 21,
     "metadata": {},
     "output_type": "execute_result"
    }
   ],
   "source": [
    "b.dot(a)"
   ]
  },
  {
   "cell_type": "markdown",
   "metadata": {},
   "source": [
    "#### Comparison operators"
   ]
  },
  {
   "cell_type": "code",
   "execution_count": null,
   "metadata": {},
   "outputs": [],
   "source": [
    "# compare array with single value:\n",
    "a = np.array([1,2,3])\n",
    "print(a<2)\n",
    "\n",
    "# compare array with array (with same shape):\n",
    "b = np.array([4,5,1])\n",
    "print(a < b)\n"
   ]
  },
  {
   "cell_type": "markdown",
   "metadata": {},
   "source": [
    "## Indexing and slicing"
   ]
  },
  {
   "cell_type": "markdown",
   "metadata": {},
   "source": [
    "### One-dimensional Array Indexing\n",
    "\n",
    "**Syntax**: array[n]\n",
    "\n",
    "n >= 0 => get n+1 element, from left to right\n",
    "\n",
    "n <= -1 => get n element, from right to left "
   ]
  },
  {
   "cell_type": "code",
   "execution_count": null,
   "metadata": {},
   "outputs": [],
   "source": [
    "a1 = np.arange(1,10)\n",
    "print(a1)\n",
    "\n",
    "print(\"\\npositive index - from left to right - a1[1]\")\n",
    "print(a1[1])\n",
    "\n",
    "print(\"\\nnegative index - from right to left - a1[-1]\")\n",
    "print(a1[-1])\n",
    "\n",
    "print(\"\\nget elements with indexes 0 upto 3 (excluded) - a1[0:3]\")\n",
    "print(a1[0:3])\n",
    "\n",
    "print(\"\\nget all elements - a1[:]\")\n",
    "print(a1[:])\n",
    "\n",
    "print(\"\\nget all elements, without the last one - a1[:-1]\")\n",
    "print(a1[:-1])\n",
    "\n",
    "print(\"\\nslicing with step - a1[0:9:2]\")\n",
    "print(a1[0:9:2])\n",
    "\n",
    "print(\"\\nslicing with step - backwards - a1[-1::-2]\")\n",
    "print(a1[-1::-2])"
   ]
  },
  {
   "cell_type": "markdown",
   "metadata": {},
   "source": [
    "### Multi dimensional arrays indexing\n",
    "\n",
    "\n",
    "**syntax**\n",
    "\n",
    "matrix[i,j]\n",
    "\n",
    "i - index rows\n",
    "\n",
    "j - index columns"
   ]
  },
  {
   "cell_type": "code",
   "execution_count": null,
   "metadata": {},
   "outputs": [],
   "source": [
    "# let's have the array:\n",
    "a1 = np.arange(1,10).reshape(3,3)\n",
    "print(a1)"
   ]
  },
  {
   "cell_type": "code",
   "execution_count": null,
   "metadata": {},
   "outputs": [],
   "source": [
    "# get an element with tuple index\n",
    "a1[1,2]"
   ]
  },
  {
   "cell_type": "code",
   "execution_count": null,
   "metadata": {},
   "outputs": [],
   "source": [
    "# get an element with indx chaining index - DO NOT USE THAT!\n",
    "a1[1][2]"
   ]
  },
  {
   "cell_type": "markdown",
   "metadata": {},
   "source": [
    "**Note: index chaining returns the same result, but is more inefficient as a new temporary array is created after the first index that is subsequently indexed by 2.**"
   ]
  },
  {
   "cell_type": "markdown",
   "metadata": {},
   "source": [
    "### Slicing\n",
    "\n",
    "One-dim arrays - Syntax\n",
    "\n",
    "arr[start:stop:step]\n",
    "\n",
    "start = index of start element. Default = beginning of array.\n",
    "\n",
    "stop -1 = index of last element. Default = end of array (inclusive)\n",
    "\n",
    "step   = the step to increment indexes on slice. Optional. Default 1."
   ]
  },
  {
   "cell_type": "code",
   "execution_count": null,
   "metadata": {},
   "outputs": [],
   "source": [
    "a1 = np.arange(1,10)\n",
    "print(a1)\n",
    "\n",
    "print( list(a1[0:2:1]) )\n",
    "\n",
    "# all defaults - returns a copy\n",
    "print( list(a1[::]) )\n",
    "print( list(a1[:]) )\n",
    "\n",
    "# stop default - untill the end of array, inclusive\n",
    "print( list(a1[2::]) )\n"
   ]
  },
  {
   "cell_type": "markdown",
   "metadata": {},
   "source": [
    "Multi-dim arrays slicing\n",
    "\n",
    "Syntax:\n",
    "\n",
    "matrix[slice_row, slice_col]"
   ]
  },
  {
   "cell_type": "code",
   "execution_count": null,
   "metadata": {},
   "outputs": [],
   "source": [
    "m = np.arange(1,10).reshape(3,3)\n",
    "print(m)\n",
    "\n",
    "print(\"\\nSlice the first row - m[0,:]\")\n",
    "print(m[0,:])\n",
    "\n",
    "print(\"\\nSlice the first column - m[:,0]\")\n",
    "print(m[:,0])\n",
    "\n",
    "print(\"\\nSlice first 2 rows and columns - m[0:2, 0:2]\")\n",
    "print(m[0:2, 0:2])\n",
    "\n",
    "print(\"\\nSlice the corner elements - m[0::2, 0::2]\")\n",
    "m[0::2, 0::2]"
   ]
  },
  {
   "cell_type": "markdown",
   "metadata": {},
   "source": [
    "### Boolean indexing"
   ]
  },
  {
   "cell_type": "markdown",
   "metadata": {},
   "source": [
    "We can select certain values from a numpy array, if we mask it with a Boolean array (True/False values) with the **same shape**"
   ]
  },
  {
   "cell_type": "code",
   "execution_count": null,
   "metadata": {},
   "outputs": [],
   "source": [
    "# this is the original array:\n",
    "a = np.arange(1,6)\n",
    "print(a)\n",
    "\n",
    "# this is the mask:\n",
    "mask = [True, True, False, True, False]\n",
    "\n",
    "# lets apply the mask:\n",
    "print(a[mask])"
   ]
  },
  {
   "cell_type": "markdown",
   "metadata": {},
   "source": [
    "#### Masking example 1 : select only the even values"
   ]
  },
  {
   "cell_type": "code",
   "execution_count": null,
   "metadata": {},
   "outputs": [],
   "source": [
    "# let's have a bigger array:\n",
    "a = np.arange(1,20)\n",
    "\n",
    "# and get only even numbers from it:\n",
    "a[a%2==0]"
   ]
  },
  {
   "cell_type": "markdown",
   "metadata": {},
   "source": [
    "How it works:\n",
    "\n",
    "a%2 is calculated for each element of the array.\n",
    "\n",
    "If result value, which serves as index, is True => the element is selected, \n",
    "if it is False the element is not selected "
   ]
  },
  {
   "cell_type": "markdown",
   "metadata": {},
   "source": [
    "#### Masking example 2 : map list elements to array of indexes"
   ]
  },
  {
   "cell_type": "code",
   "execution_count": null,
   "metadata": {},
   "outputs": [],
   "source": [
    "# let's have a numpy array of repeated values 0, 1 or 2:\n",
    "indexes = np.array([0, 2, 1, 2, 0, 1,2])\n",
    "\n",
    "# and a list of colors:\n",
    "colors = ['red', 'green', 'blue']\n",
    "\n",
    "# let's group the elements of the 'indexes' array by color, according to \n",
    "# their values, which will be used as indexes in colors list\n",
    "# For simplicity, we'll just print the groups, but if we need, we can save them in dictionary\n",
    "for i in range(len(colors)):  \n",
    "    print(f\"{colors[i]} group:\")\n",
    "    print(indexes[indexes==i])\n",
    "    "
   ]
  },
  {
   "cell_type": "markdown",
   "metadata": {},
   "source": [
    "#### Masking example 3 : group 'scores' by category"
   ]
  },
  {
   "cell_type": "markdown",
   "metadata": {},
   "source": [
    "Let's have an array of 'scores', and for each score we'll have to assign a category from a predefined list. So, we'll add to each score element the index of the category list.\n",
    "The goal is to group scores by category."
   ]
  },
  {
   "cell_type": "code",
   "execution_count": null,
   "metadata": {},
   "outputs": [],
   "source": [
    "scores = np.array([\n",
    "    [4, 1],\n",
    "    [2, 0],\n",
    "    [3, 0],\n",
    "    [5, 1],\n",
    "    [6, 1]\n",
    "])\n",
    "\n",
    "categories = ['good','bad']\n",
    "\n",
    "\n",
    "for i in range(len(categories)):  \n",
    "    # make the mask:\n",
    "    mask = scores[:,1] == i\n",
    "    print(mask)\n",
    "    \n",
    "    # now apply it to scores:\n",
    "    print(f\"\\n{categories[i]} scores are:\")\n",
    "    print(scores[mask,0])"
   ]
  },
  {
   "cell_type": "markdown",
   "metadata": {},
   "source": [
    "## Array Manipulations"
   ]
  },
  {
   "cell_type": "markdown",
   "metadata": {},
   "source": [
    "#### Flatten the array"
   ]
  },
  {
   "cell_type": "code",
   "execution_count": null,
   "metadata": {},
   "outputs": [],
   "source": [
    "a = np.array([[1,2,3],[4,5,6]])\n",
    "a.ravel()"
   ]
  },
  {
   "cell_type": "markdown",
   "metadata": {},
   "source": [
    "#### reshaping arrays: __np.reshape()__"
   ]
  },
  {
   "cell_type": "code",
   "execution_count": null,
   "metadata": {},
   "outputs": [],
   "source": [
    "a = np.arange(1,10)\n",
    "a"
   ]
  },
  {
   "cell_type": "code",
   "execution_count": null,
   "metadata": {},
   "outputs": [],
   "source": [
    "a.reshape(3,3)"
   ]
  },
  {
   "cell_type": "code",
   "execution_count": null,
   "metadata": {},
   "outputs": [],
   "source": [
    "a.reshape(1,9)"
   ]
  }
 ],
 "metadata": {
  "interpreter": {
   "hash": "6ff067a0fdd468d21234896ffbb9cd57a905a2e40964bad2ca7f8fead7ef9bc7"
  },
  "jupytext": {},
  "kernelspec": {
   "display_name": "Python 3 (ipykernel)",
   "language": "python",
   "name": "python3"
  },
  "language_info": {
   "codemirror_mode": {
    "name": "ipython",
    "version": 3
   },
   "file_extension": ".py",
   "mimetype": "text/x-python",
   "name": "python",
   "nbconvert_exporter": "python",
   "pygments_lexer": "ipython3",
   "version": "3.9.7"
  },
  "toc": {
   "base_numbering": 1,
   "nav_menu": {},
   "number_sections": true,
   "sideBar": true,
   "skip_h1_title": false,
   "title_cell": "Table of Contents",
   "title_sidebar": "Contents",
   "toc_cell": false,
   "toc_position": {
    "height": "calc(100% - 180px)",
    "left": "10px",
    "top": "150px",
    "width": "251.865px"
   },
   "toc_section_display": true,
   "toc_window_display": true
  }
 },
 "nbformat": 4,
 "nbformat_minor": 4
}
