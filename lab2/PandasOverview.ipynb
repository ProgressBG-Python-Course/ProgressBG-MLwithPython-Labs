{
 "cells": [
  {
   "cell_type": "markdown",
   "id": "c963d56d-a863-46ca-a6e2-f63815a1c821",
   "metadata": {},
   "source": [
    "# Pandas Overview"
   ]
  },
  {
   "cell_type": "markdown",
   "id": "5c7cf46d-90a5-4d31-ad7b-2d7d6fa52f16",
   "metadata": {},
   "source": [
    "## Series Object"
   ]
  },
  {
   "cell_type": "code",
   "execution_count": 6,
   "id": "9e1504ae-5bb2-4fb9-a30d-ea0316366880",
   "metadata": {},
   "outputs": [],
   "source": [
    "import pandas as pd"
   ]
  },
  {
   "cell_type": "code",
   "execution_count": 7,
   "id": "f570b4b4-5a56-4b0b-b46e-cb7cbca394f4",
   "metadata": {},
   "outputs": [],
   "source": [
    "s1 = pd.Series(range(10))"
   ]
  },
  {
   "cell_type": "code",
   "execution_count": 12,
   "id": "ec888368-645e-4def-81dc-9b030f789e06",
   "metadata": {},
   "outputs": [
    {
     "data": {
      "text/plain": [
       "0    0\n",
       "1    1\n",
       "2    2\n",
       "3    3\n",
       "4    4\n",
       "5    5\n",
       "6    6\n",
       "7    7\n",
       "8    8\n",
       "9    9\n",
       "dtype: int64"
      ]
     },
     "execution_count": 12,
     "metadata": {},
     "output_type": "execute_result"
    }
   ],
   "source": [
    "s1 "
   ]
  },
  {
   "cell_type": "code",
   "execution_count": 16,
   "id": "ca3caea7-75d9-4c90-9267-4b6dbeed8114",
   "metadata": {},
   "outputs": [
    {
     "data": {
      "text/plain": [
       "7    7\n",
       "8    8\n",
       "9    9\n",
       "dtype: int64"
      ]
     },
     "execution_count": 16,
     "metadata": {},
     "output_type": "execute_result"
    }
   ],
   "source": [
    "s1[-3:]"
   ]
  },
  {
   "cell_type": "code",
   "execution_count": 17,
   "id": "a9cfaa23-891d-4c45-9cd9-e5392c8dcb93",
   "metadata": {},
   "outputs": [
    {
     "name": "stdout",
     "output_type": "stream",
     "text": [
      "d    4\n",
      "a    1\n",
      "c    3\n",
      "b    2\n",
      "e    5\n",
      "dtype: int64\n"
     ]
    }
   ],
   "source": [
    "s2 =  pd.Series({\n",
    "  \"d\":4,\n",
    "  \"a\":1,\n",
    "  \"c\":3,\n",
    "  \"b\":2,\n",
    "  \"e\":5\n",
    "})\n",
    "print(s2)"
   ]
  },
  {
   "cell_type": "code",
   "execution_count": 18,
   "id": "74c52605-c273-4156-ada1-7abfa0d83e6c",
   "metadata": {},
   "outputs": [
    {
     "data": {
      "text/plain": [
       "a    1\n",
       "b    2\n",
       "dtype: int64"
      ]
     },
     "execution_count": 18,
     "metadata": {},
     "output_type": "execute_result"
    }
   ],
   "source": [
    "s2[['a','b']]"
   ]
  },
  {
   "cell_type": "code",
   "execution_count": null,
   "id": "fb59ddef-9b05-40be-a8e9-103af33c3231",
   "metadata": {},
   "outputs": [],
   "source": []
  }
 ],
 "metadata": {
  "kernelspec": {
   "display_name": "Python 3.9.7 64-bit ('ml_python_3.9': pyenv)",
   "language": "python",
   "name": "python397jvsc74a57bd06ff067a0fdd468d21234896ffbb9cd57a905a2e40964bad2ca7f8fead7ef9bc7"
  },
  "language_info": {
   "codemirror_mode": {
    "name": "ipython",
    "version": 3
   },
   "file_extension": ".py",
   "mimetype": "text/x-python",
   "name": "python",
   "nbconvert_exporter": "python",
   "pygments_lexer": "ipython3",
   "version": "3.9.7"
  }
 },
 "nbformat": 4,
 "nbformat_minor": 5
}
